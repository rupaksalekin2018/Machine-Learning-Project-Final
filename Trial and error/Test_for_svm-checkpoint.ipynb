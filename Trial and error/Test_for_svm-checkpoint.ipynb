{
 "cells": [
  {
   "cell_type": "code",
   "execution_count": 1,
   "id": "8e76aef1",
   "metadata": {},
   "outputs": [],
   "source": [
    "import os\n",
    "import numpy as np\n",
    "import cv2\n",
    "import matplotlib.pyplot as plt"
   ]
  },
  {
   "cell_type": "code",
   "execution_count": 2,
   "id": "10e55b95",
   "metadata": {},
   "outputs": [],
   "source": [
    "dir = \"C:\\\\Users\\\\User\\\\Desktop\\\\cataract\\\\Training\""
   ]
  },
  {
   "cell_type": "code",
   "execution_count": 3,
   "id": "487099cb",
   "metadata": {},
   "outputs": [],
   "source": [
    "categories = ['normal', 'cataract']"
   ]
  },
  {
   "cell_type": "code",
   "execution_count": 4,
   "id": "c14e9dfd",
   "metadata": {},
   "outputs": [],
   "source": [
    "data = []\n"
   ]
  },
  {
   "cell_type": "code",
   "execution_count": 5,
   "id": "dc94b45f",
   "metadata": {},
   "outputs": [],
   "source": [
    "for category in categories:\n",
    "    path = os.path.join(dir,category)\n",
    "    label = categories.index(category)\n",
    "    \n",
    "    for img in os.listdir(path):\n",
    "        imgpath = os.path.join(path,img)\n",
    "        dis_img = cv2.imread(imgpath,0)\n",
    "        dis_img = cv2.resize(dis_img,(200,200))\n",
    "        image = np.array(dis_img).flatten()\n",
    "        \n",
    "        data.append([image,label])"
   ]
  },
  {
   "cell_type": "code",
   "execution_count": 175,
   "id": "8ae2b427",
   "metadata": {},
   "outputs": [
    {
     "name": "stdout",
     "output_type": "stream",
     "text": [
      "[[array([0, 0, 0, ..., 1, 1, 0], dtype=uint8), 1], [array([0, 0, 0, ..., 0, 0, 0], dtype=uint8), 0], [array([0, 0, 0, ..., 0, 0, 0], dtype=uint8), 0], [array([0, 0, 0, ..., 0, 0, 0], dtype=uint8), 0], [array([0, 0, 1, ..., 0, 0, 0], dtype=uint8), 0], [array([0, 0, 0, ..., 0, 0, 1], dtype=uint8), 1], [array([0, 0, 1, ..., 0, 0, 0], dtype=uint8), 1], [array([0, 0, 0, ..., 0, 0, 1], dtype=uint8), 0], [array([0, 0, 0, ..., 0, 1, 0], dtype=uint8), 0], [array([0, 0, 0, ..., 0, 0, 0], dtype=uint8), 0], [array([0, 0, 0, ..., 0, 0, 0], dtype=uint8), 1], [array([0, 0, 0, ..., 0, 0, 0], dtype=uint8), 0], [array([0, 0, 0, ..., 0, 0, 0], dtype=uint8), 0], [array([0, 1, 1, ..., 0, 1, 0], dtype=uint8), 1], [array([0, 0, 0, ..., 0, 0, 0], dtype=uint8), 0], [array([0, 0, 0, ..., 0, 0, 0], dtype=uint8), 1], [array([0, 0, 0, ..., 0, 0, 0], dtype=uint8), 0], [array([1, 0, 0, ..., 1, 0, 0], dtype=uint8), 0], [array([1, 0, 0, ..., 0, 1, 1], dtype=uint8), 0], [array([0, 0, 0, ..., 1, 0, 0], dtype=uint8), 0], [array([0, 0, 0, ..., 0, 0, 0], dtype=uint8), 0], [array([0, 0, 1, ..., 0, 1, 0], dtype=uint8), 0], [array([0, 1, 0, ..., 0, 0, 0], dtype=uint8), 0], [array([0, 1, 0, ..., 0, 0, 0], dtype=uint8), 1], [array([0, 0, 0, ..., 0, 0, 0], dtype=uint8), 1], [array([0, 0, 0, ..., 1, 0, 0], dtype=uint8), 0], [array([0, 0, 0, ..., 0, 0, 0], dtype=uint8), 1], [array([0, 0, 0, ..., 0, 0, 0], dtype=uint8), 0], [array([0, 0, 0, ..., 0, 0, 0], dtype=uint8), 0], [array([0, 0, 0, ..., 0, 0, 0], dtype=uint8), 1], [array([0, 0, 0, ..., 0, 0, 0], dtype=uint8), 0], [array([0, 0, 0, ..., 0, 0, 0], dtype=uint8), 0], [array([0, 0, 0, ..., 1, 0, 0], dtype=uint8), 0], [array([0, 0, 0, ..., 0, 1, 0], dtype=uint8), 0], [array([0, 0, 0, ..., 1, 0, 0], dtype=uint8), 0], [array([0, 0, 0, ..., 0, 1, 0], dtype=uint8), 0], [array([0, 1, 0, ..., 0, 1, 0], dtype=uint8), 0], [array([0, 0, 0, ..., 0, 0, 0], dtype=uint8), 0], [array([0, 0, 0, ..., 0, 0, 0], dtype=uint8), 0], [array([0, 0, 0, ..., 0, 0, 0], dtype=uint8), 0], [array([0, 1, 0, ..., 0, 1, 0], dtype=uint8), 0], [array([0, 0, 0, ..., 0, 1, 0], dtype=uint8), 0], [array([0, 0, 0, ..., 0, 0, 0], dtype=uint8), 1], [array([1, 0, 0, ..., 0, 0, 0], dtype=uint8), 1], [array([0, 0, 0, ..., 0, 0, 0], dtype=uint8), 1], [array([1, 0, 0, ..., 0, 0, 0], dtype=uint8), 0], [array([0, 0, 0, ..., 1, 0, 0], dtype=uint8), 0], [array([0, 0, 0, ..., 0, 0, 0], dtype=uint8), 0], [array([0, 0, 0, ..., 0, 0, 0], dtype=uint8), 0], [array([1, 0, 0, ..., 0, 0, 0], dtype=uint8), 0], [array([0, 1, 0, ..., 0, 0, 0], dtype=uint8), 0], [array([0, 0, 0, ..., 0, 0, 0], dtype=uint8), 0], [array([1, 0, 0, ..., 1, 1, 0], dtype=uint8), 1], [array([0, 0, 1, ..., 0, 0, 0], dtype=uint8), 0], [array([0, 0, 0, ..., 0, 0, 0], dtype=uint8), 0], [array([0, 0, 0, ..., 0, 0, 0], dtype=uint8), 0], [array([0, 0, 0, ..., 0, 0, 0], dtype=uint8), 0], [array([0, 1, 0, ..., 0, 0, 0], dtype=uint8), 0], [array([0, 0, 0, ..., 0, 0, 0], dtype=uint8), 0], [array([0, 1, 0, ..., 0, 0, 1], dtype=uint8), 0], [array([0, 0, 0, ..., 1, 1, 0], dtype=uint8), 0], [array([0, 0, 0, ..., 0, 0, 0], dtype=uint8), 0], [array([0, 0, 0, ..., 0, 0, 0], dtype=uint8), 0], [array([0, 0, 0, ..., 0, 0, 0], dtype=uint8), 1], [array([0, 0, 0, ..., 1, 0, 0], dtype=uint8), 0], [array([1, 0, 0, ..., 0, 0, 0], dtype=uint8), 0], [array([0, 0, 0, ..., 1, 1, 1], dtype=uint8), 0], [array([0, 0, 0, ..., 0, 1, 0], dtype=uint8), 1], [array([0, 0, 0, ..., 0, 0, 0], dtype=uint8), 1], [array([0, 0, 0, ..., 1, 1, 1], dtype=uint8), 0], [array([0, 0, 0, ..., 0, 0, 0], dtype=uint8), 1], [array([0, 0, 0, ..., 0, 1, 0], dtype=uint8), 0], [array([1, 0, 0, ..., 0, 0, 0], dtype=uint8), 0], [array([0, 1, 0, ..., 0, 1, 1], dtype=uint8), 0], [array([0, 0, 0, ..., 0, 0, 0], dtype=uint8), 0], [array([0, 0, 0, ..., 0, 0, 0], dtype=uint8), 1], [array([0, 0, 0, ..., 0, 0, 0], dtype=uint8), 0], [array([0, 0, 0, ..., 0, 0, 0], dtype=uint8), 0], [array([0, 0, 0, ..., 0, 0, 0], dtype=uint8), 1], [array([1, 0, 0, ..., 0, 1, 0], dtype=uint8), 0], [array([0, 0, 0, ..., 1, 1, 0], dtype=uint8), 0], [array([1, 0, 0, ..., 1, 0, 0], dtype=uint8), 0], [array([1, 0, 1, ..., 1, 0, 0], dtype=uint8), 1], [array([1, 0, 0, ..., 0, 0, 0], dtype=uint8), 1], [array([0, 0, 0, ..., 0, 0, 0], dtype=uint8), 1], [array([0, 0, 0, ..., 0, 0, 0], dtype=uint8), 0], [array([0, 0, 0, ..., 0, 0, 0], dtype=uint8), 1], [array([1, 0, 0, ..., 0, 0, 0], dtype=uint8), 1], [array([0, 0, 1, ..., 0, 0, 0], dtype=uint8), 0], [array([0, 0, 0, ..., 0, 0, 0], dtype=uint8), 1], [array([0, 1, 0, ..., 0, 0, 0], dtype=uint8), 0], [array([0, 0, 0, ..., 0, 0, 0], dtype=uint8), 0], [array([0, 1, 0, ..., 0, 0, 0], dtype=uint8), 0], [array([0, 0, 0, ..., 0, 0, 1], dtype=uint8), 0], [array([0, 1, 1, ..., 0, 0, 0], dtype=uint8), 0], [array([0, 0, 0, ..., 0, 0, 0], dtype=uint8), 1], [array([0, 0, 0, ..., 0, 0, 1], dtype=uint8), 0], [array([1, 1, 0, ..., 0, 0, 0], dtype=uint8), 1], [array([1, 0, 0, ..., 0, 0, 0], dtype=uint8), 0], [array([0, 0, 0, ..., 0, 1, 0], dtype=uint8), 0], [array([0, 0, 0, ..., 0, 1, 0], dtype=uint8), 0], [array([0, 0, 0, ..., 0, 1, 1], dtype=uint8), 0], [array([0, 0, 0, ..., 0, 1, 1], dtype=uint8), 1], [array([0, 0, 0, ..., 0, 0, 1], dtype=uint8), 0], [array([0, 0, 0, ..., 0, 0, 0], dtype=uint8), 1], [array([0, 0, 0, ..., 0, 1, 0], dtype=uint8), 0], [array([0, 0, 0, ..., 0, 0, 0], dtype=uint8), 0], [array([1, 0, 0, ..., 0, 0, 0], dtype=uint8), 0], [array([1, 1, 0, ..., 0, 0, 0], dtype=uint8), 0], [array([1, 0, 0, ..., 0, 0, 0], dtype=uint8), 1], [array([0, 0, 0, ..., 0, 0, 0], dtype=uint8), 0], [array([0, 0, 0, ..., 1, 0, 1], dtype=uint8), 0], [array([0, 0, 1, ..., 0, 0, 0], dtype=uint8), 0], [array([0, 0, 0, ..., 1, 0, 1], dtype=uint8), 0], [array([0, 0, 0, ..., 0, 1, 0], dtype=uint8), 1], [array([0, 0, 0, ..., 0, 1, 0], dtype=uint8), 0], [array([0, 0, 0, ..., 0, 0, 0], dtype=uint8), 0], [array([1, 0, 0, ..., 1, 0, 0], dtype=uint8), 0], [array([1, 0, 0, ..., 0, 1, 0], dtype=uint8), 0], [array([0, 0, 0, ..., 0, 1, 0], dtype=uint8), 1], [array([1, 0, 0, ..., 1, 0, 0], dtype=uint8), 0], [array([0, 1, 0, ..., 1, 0, 0], dtype=uint8), 0], [array([0, 0, 0, ..., 0, 0, 0], dtype=uint8), 0], [array([0, 0, 0, ..., 0, 0, 1], dtype=uint8), 0], [array([0, 0, 0, ..., 0, 0, 0], dtype=uint8), 0], [array([1, 0, 0, ..., 0, 0, 0], dtype=uint8), 1], [array([0, 0, 0, ..., 0, 0, 0], dtype=uint8), 0], [array([0, 0, 0, ..., 0, 0, 0], dtype=uint8), 1], [array([0, 0, 0, ..., 0, 0, 0], dtype=uint8), 1], [array([0, 0, 0, ..., 0, 0, 0], dtype=uint8), 0], [array([0, 1, 0, ..., 0, 0, 0], dtype=uint8), 0], [array([0, 0, 0, ..., 0, 0, 0], dtype=uint8), 0], [array([0, 0, 1, ..., 1, 1, 1], dtype=uint8), 0], [array([0, 0, 0, ..., 1, 0, 0], dtype=uint8), 0], [array([1, 0, 0, ..., 0, 0, 1], dtype=uint8), 0], [array([0, 0, 1, ..., 0, 0, 1], dtype=uint8), 1], [array([1, 0, 0, ..., 1, 1, 0], dtype=uint8), 1], [array([0, 0, 0, ..., 0, 0, 0], dtype=uint8), 0], [array([0, 0, 0, ..., 0, 0, 0], dtype=uint8), 0], [array([0, 1, 0, ..., 0, 0, 0], dtype=uint8), 1], [array([0, 1, 0, ..., 0, 0, 0], dtype=uint8), 1], [array([0, 0, 0, ..., 0, 0, 0], dtype=uint8), 0], [array([0, 0, 0, ..., 1, 1, 1], dtype=uint8), 0], [array([0, 0, 0, ..., 0, 1, 0], dtype=uint8), 0], [array([0, 0, 0, ..., 0, 0, 0], dtype=uint8), 1], [array([0, 0, 0, ..., 1, 1, 0], dtype=uint8), 0], [array([0, 1, 0, ..., 0, 0, 0], dtype=uint8), 0], [array([0, 0, 0, ..., 0, 0, 1], dtype=uint8), 1], [array([0, 0, 0, ..., 0, 0, 0], dtype=uint8), 0], [array([0, 0, 0, ..., 0, 0, 0], dtype=uint8), 1], [array([0, 0, 0, ..., 0, 0, 1], dtype=uint8), 1], [array([0, 0, 0, ..., 1, 0, 0], dtype=uint8), 1], [array([0, 0, 0, ..., 0, 0, 0], dtype=uint8), 0], [array([0, 0, 0, ..., 0, 1, 1], dtype=uint8), 1], [array([0, 0, 0, ..., 0, 0, 0], dtype=uint8), 1], [array([0, 0, 0, ..., 1, 0, 1], dtype=uint8), 0], [array([0, 0, 0, ..., 1, 0, 0], dtype=uint8), 1], [array([0, 0, 0, ..., 0, 0, 0], dtype=uint8), 0], [array([0, 0, 0, ..., 0, 0, 0], dtype=uint8), 0], [array([0, 0, 1, ..., 1, 0, 0], dtype=uint8), 0], [array([0, 0, 0, ..., 0, 1, 0], dtype=uint8), 0], [array([0, 0, 0, ..., 0, 0, 0], dtype=uint8), 0], [array([1, 0, 1, ..., 0, 0, 1], dtype=uint8), 0], [array([0, 0, 0, ..., 1, 0, 0], dtype=uint8), 0], [array([0, 0, 0, ..., 0, 0, 0], dtype=uint8), 0], [array([0, 0, 1, ..., 0, 0, 0], dtype=uint8), 0], [array([0, 0, 0, ..., 1, 1, 0], dtype=uint8), 1], [array([0, 1, 0, ..., 0, 0, 0], dtype=uint8), 0], [array([0, 0, 0, ..., 0, 0, 0], dtype=uint8), 0], [array([0, 0, 0, ..., 0, 0, 0], dtype=uint8), 0], [array([1, 0, 0, ..., 0, 0, 0], dtype=uint8), 0], [array([0, 0, 0, ..., 0, 0, 0], dtype=uint8), 0], [array([0, 0, 0, ..., 0, 0, 0], dtype=uint8), 1], [array([1, 0, 0, ..., 0, 0, 0], dtype=uint8), 0], [array([0, 0, 0, ..., 0, 0, 0], dtype=uint8), 0], [array([0, 0, 0, ..., 0, 0, 0], dtype=uint8), 0], [array([0, 0, 0, ..., 0, 0, 0], dtype=uint8), 0], [array([1, 0, 0, ..., 0, 0, 0], dtype=uint8), 0], [array([0, 0, 0, ..., 0, 0, 0], dtype=uint8), 0], [array([1, 0, 0, ..., 0, 0, 0], dtype=uint8), 1], [array([0, 0, 0, ..., 0, 0, 0], dtype=uint8), 0], [array([0, 0, 0, ..., 0, 1, 0], dtype=uint8), 0], [array([0, 1, 0, ..., 0, 0, 0], dtype=uint8), 1], [array([0, 0, 0, ..., 0, 0, 0], dtype=uint8), 1], [array([0, 0, 0, ..., 0, 0, 0], dtype=uint8), 0], [array([0, 1, 0, ..., 0, 0, 0], dtype=uint8), 0], [array([0, 0, 0, ..., 0, 1, 0], dtype=uint8), 0], [array([0, 0, 0, ..., 0, 0, 0], dtype=uint8), 0], [array([0, 1, 0, ..., 1, 0, 1], dtype=uint8), 0], [array([0, 0, 0, ..., 0, 0, 0], dtype=uint8), 0], [array([0, 0, 1, ..., 0, 0, 0], dtype=uint8), 0], [array([1, 0, 0, ..., 0, 0, 0], dtype=uint8), 0], [array([0, 0, 0, ..., 0, 0, 0], dtype=uint8), 1], [array([0, 0, 0, ..., 0, 0, 0], dtype=uint8), 1], [array([0, 0, 0, ..., 0, 1, 1], dtype=uint8), 0], [array([0, 0, 0, ..., 0, 0, 0], dtype=uint8), 0], [array([0, 0, 0, ..., 0, 0, 0], dtype=uint8), 0], [array([0, 0, 0, ..., 0, 0, 0], dtype=uint8), 0], [array([0, 0, 0, ..., 1, 0, 0], dtype=uint8), 0], [array([0, 0, 0, ..., 0, 1, 0], dtype=uint8), 0], [array([0, 0, 0, ..., 0, 0, 0], dtype=uint8), 1], [array([0, 0, 0, ..., 1, 1, 0], dtype=uint8), 1], [array([0, 0, 0, ..., 1, 1, 1], dtype=uint8), 0], [array([1, 0, 1, ..., 0, 1, 1], dtype=uint8), 1], [array([0, 0, 0, ..., 1, 0, 0], dtype=uint8), 0], [array([0, 0, 0, ..., 0, 0, 0], dtype=uint8), 0], [array([1, 0, 0, ..., 0, 0, 0], dtype=uint8), 0], [array([0, 0, 1, ..., 1, 1, 1], dtype=uint8), 0], [array([1, 0, 0, ..., 0, 1, 0], dtype=uint8), 0], [array([0, 1, 0, ..., 0, 0, 0], dtype=uint8), 0], [array([0, 0, 0, ..., 0, 1, 0], dtype=uint8), 0], [array([0, 1, 0, ..., 0, 0, 0], dtype=uint8), 0], [array([1, 0, 0, ..., 0, 1, 0], dtype=uint8), 0], [array([0, 0, 0, ..., 0, 0, 0], dtype=uint8), 0], [array([0, 0, 0, ..., 1, 1, 1], dtype=uint8), 1], [array([1, 0, 0, ..., 0, 0, 0], dtype=uint8), 0], [array([0, 0, 0, ..., 1, 0, 0], dtype=uint8), 0], [array([0, 0, 0, ..., 0, 0, 0], dtype=uint8), 1], [array([0, 0, 0, ..., 0, 0, 0], dtype=uint8), 0], [array([0, 0, 0, ..., 0, 0, 0], dtype=uint8), 0], [array([0, 0, 1, ..., 1, 1, 0], dtype=uint8), 1], [array([1, 1, 0, ..., 0, 0, 0], dtype=uint8), 1], [array([1, 0, 0, ..., 0, 1, 0], dtype=uint8), 0], [array([0, 0, 0, ..., 0, 1, 0], dtype=uint8), 0], [array([0, 0, 0, ..., 0, 1, 0], dtype=uint8), 1], [array([0, 0, 0, ..., 0, 0, 0], dtype=uint8), 0], [array([0, 0, 0, ..., 0, 0, 0], dtype=uint8), 0], [array([0, 0, 0, ..., 0, 1, 0], dtype=uint8), 0], [array([0, 1, 0, ..., 0, 0, 0], dtype=uint8), 1], [array([0, 0, 0, ..., 0, 1, 0], dtype=uint8), 0], [array([0, 0, 0, ..., 0, 0, 0], dtype=uint8), 0], [array([0, 0, 1, ..., 0, 1, 0], dtype=uint8), 0], [array([0, 0, 0, ..., 0, 0, 0], dtype=uint8), 0], [array([0, 0, 0, ..., 0, 0, 0], dtype=uint8), 0], [array([0, 0, 0, ..., 0, 1, 0], dtype=uint8), 0], [array([1, 0, 0, ..., 0, 0, 0], dtype=uint8), 0], [array([0, 0, 0, ..., 0, 0, 0], dtype=uint8), 0], [array([0, 0, 0, ..., 0, 1, 1], dtype=uint8), 0], [array([1, 0, 0, ..., 1, 0, 0], dtype=uint8), 0], [array([0, 0, 0, ..., 0, 0, 0], dtype=uint8), 0], [array([1, 0, 0, ..., 0, 1, 0], dtype=uint8), 0], [array([0, 0, 0, ..., 0, 0, 0], dtype=uint8), 0], [array([0, 0, 1, ..., 1, 1, 1], dtype=uint8), 0], [array([1, 0, 0, ..., 1, 1, 1], dtype=uint8), 0], [array([0, 0, 0, ..., 0, 0, 1], dtype=uint8), 0], [array([0, 0, 0, ..., 0, 0, 0], dtype=uint8), 0], [array([0, 0, 0, ..., 0, 0, 0], dtype=uint8), 0], [array([0, 0, 0, ..., 0, 0, 0], dtype=uint8), 0], [array([0, 1, 0, ..., 0, 0, 0], dtype=uint8), 0], [array([0, 1, 1, ..., 0, 0, 0], dtype=uint8), 0], [array([0, 0, 0, ..., 1, 1, 0], dtype=uint8), 0], [array([0, 0, 0, ..., 0, 0, 0], dtype=uint8), 0], [array([0, 0, 0, ..., 0, 0, 0], dtype=uint8), 1], [array([0, 1, 0, ..., 0, 1, 0], dtype=uint8), 0], [array([0, 0, 0, ..., 0, 1, 1], dtype=uint8), 0], [array([0, 1, 0, ..., 0, 0, 0], dtype=uint8), 1], [array([0, 0, 0, ..., 0, 0, 0], dtype=uint8), 0], [array([0, 0, 0, ..., 0, 0, 0], dtype=uint8), 0], [array([1, 0, 0, ..., 1, 0, 0], dtype=uint8), 0], [array([0, 1, 0, ..., 0, 0, 0], dtype=uint8), 0], [array([0, 0, 0, ..., 0, 0, 0], dtype=uint8), 1], [array([0, 0, 0, ..., 0, 0, 0], dtype=uint8), 0], [array([0, 0, 0, ..., 1, 1, 0], dtype=uint8), 0], [array([0, 0, 0, ..., 0, 0, 0], dtype=uint8), 0], [array([0, 1, 0, ..., 1, 1, 1], dtype=uint8), 0], [array([0, 0, 1, ..., 0, 1, 0], dtype=uint8), 0], [array([1, 0, 0, ..., 0, 0, 0], dtype=uint8), 0], [array([0, 0, 0, ..., 0, 1, 0], dtype=uint8), 0], [array([0, 0, 0, ..., 1, 0, 1], dtype=uint8), 0], [array([1, 0, 0, ..., 0, 0, 0], dtype=uint8), 0], [array([0, 0, 0, ..., 1, 0, 0], dtype=uint8), 0], [array([1, 0, 0, ..., 0, 0, 0], dtype=uint8), 0], [array([0, 0, 0, ..., 0, 0, 0], dtype=uint8), 1], [array([0, 0, 0, ..., 0, 0, 0], dtype=uint8), 1], [array([0, 0, 0, ..., 0, 0, 0], dtype=uint8), 0], [array([0, 0, 0, ..., 0, 0, 0], dtype=uint8), 0], [array([0, 0, 0, ..., 0, 0, 0], dtype=uint8), 1], [array([0, 0, 0, ..., 0, 0, 1], dtype=uint8), 0], [array([0, 1, 0, ..., 0, 0, 0], dtype=uint8), 0], [array([0, 0, 0, ..., 0, 0, 1], dtype=uint8), 1], [array([1, 0, 0, ..., 0, 0, 0], dtype=uint8), 0], [array([0, 0, 0, ..., 0, 0, 0], dtype=uint8), 1], [array([0, 0, 0, ..., 0, 0, 0], dtype=uint8), 0], [array([0, 0, 0, ..., 0, 0, 0], dtype=uint8), 0], [array([0, 0, 0, ..., 0, 0, 0], dtype=uint8), 0], [array([0, 0, 0, ..., 1, 0, 1], dtype=uint8), 0], [array([0, 0, 0, ..., 0, 0, 0], dtype=uint8), 0], [array([0, 0, 0, ..., 0, 0, 0], dtype=uint8), 0], [array([0, 0, 0, ..., 0, 0, 0], dtype=uint8), 0], [array([0, 0, 0, ..., 0, 0, 0], dtype=uint8), 0], [array([0, 0, 1, ..., 0, 0, 0], dtype=uint8), 0], [array([0, 0, 0, ..., 1, 0, 0], dtype=uint8), 1], [array([1, 0, 0, ..., 0, 0, 0], dtype=uint8), 0], [array([0, 0, 0, ..., 0, 1, 0], dtype=uint8), 1], [array([0, 0, 0, ..., 0, 0, 0], dtype=uint8), 0], [array([0, 0, 0, ..., 0, 0, 0], dtype=uint8), 0], [array([0, 0, 0, ..., 0, 0, 0], dtype=uint8), 1], [array([0, 0, 0, ..., 0, 1, 0], dtype=uint8), 0], [array([0, 0, 0, ..., 0, 0, 0], dtype=uint8), 0], [array([0, 0, 0, ..., 0, 0, 1], dtype=uint8), 1], [array([0, 0, 0, ..., 1, 1, 0], dtype=uint8), 0], [array([0, 0, 0, ..., 0, 0, 0], dtype=uint8), 0], [array([0, 0, 0, ..., 0, 0, 0], dtype=uint8), 0], [array([0, 0, 0, ..., 0, 0, 0], dtype=uint8), 1], [array([0, 0, 0, ..., 0, 1, 1], dtype=uint8), 0], [array([1, 0, 0, ..., 0, 0, 0], dtype=uint8), 1], [array([0, 0, 0, ..., 0, 0, 0], dtype=uint8), 0], [array([0, 0, 0, ..., 0, 0, 0], dtype=uint8), 0], [array([0, 1, 0, ..., 0, 1, 0], dtype=uint8), 0], [array([0, 0, 0, ..., 0, 0, 0], dtype=uint8), 0], [array([0, 0, 0, ..., 1, 0, 1], dtype=uint8), 0], [array([0, 0, 0, ..., 0, 1, 0], dtype=uint8), 1], [array([0, 0, 0, ..., 0, 0, 0], dtype=uint8), 0], [array([0, 0, 0, ..., 0, 0, 1], dtype=uint8), 0], [array([0, 0, 0, ..., 0, 0, 0], dtype=uint8), 0], [array([0, 0, 0, ..., 0, 0, 0], dtype=uint8), 0], [array([0, 0, 0, ..., 0, 0, 0], dtype=uint8), 0], [array([0, 0, 0, ..., 0, 0, 0], dtype=uint8), 0], [array([0, 0, 0, ..., 0, 0, 0], dtype=uint8), 0], [array([0, 1, 0, ..., 0, 0, 0], dtype=uint8), 1], [array([0, 0, 1, ..., 0, 0, 1], dtype=uint8), 0], [array([0, 0, 0, ..., 1, 1, 1], dtype=uint8), 0], [array([0, 0, 0, ..., 0, 0, 0], dtype=uint8), 1], [array([0, 0, 1, ..., 0, 0, 0], dtype=uint8), 0], [array([1, 0, 0, ..., 0, 0, 1], dtype=uint8), 0], [array([0, 0, 0, ..., 1, 1, 0], dtype=uint8), 0], [array([1, 0, 0, ..., 0, 0, 0], dtype=uint8), 0], [array([0, 0, 0, ..., 0, 0, 1], dtype=uint8), 0], [array([0, 0, 0, ..., 0, 1, 1], dtype=uint8), 0], [array([0, 0, 0, ..., 0, 1, 0], dtype=uint8), 0], [array([0, 0, 0, ..., 0, 0, 0], dtype=uint8), 0], [array([0, 0, 0, ..., 1, 0, 1], dtype=uint8), 0], [array([0, 0, 1, ..., 0, 0, 0], dtype=uint8), 0], [array([0, 0, 0, ..., 0, 0, 0], dtype=uint8), 0], [array([1, 0, 0, ..., 0, 0, 0], dtype=uint8), 0], [array([0, 1, 0, ..., 1, 0, 1], dtype=uint8), 0], [array([0, 1, 0, ..., 0, 0, 0], dtype=uint8), 0], [array([0, 1, 0, ..., 0, 0, 0], dtype=uint8), 0], [array([1, 1, 0, ..., 1, 0, 0], dtype=uint8), 0], [array([0, 0, 0, ..., 0, 0, 0], dtype=uint8), 0], [array([0, 0, 0, ..., 0, 0, 0], dtype=uint8), 1], [array([1, 0, 0, ..., 0, 0, 1], dtype=uint8), 1], [array([0, 0, 0, ..., 0, 0, 1], dtype=uint8), 0], [array([0, 0, 0, ..., 1, 0, 0], dtype=uint8), 0], [array([0, 0, 1, ..., 0, 0, 1], dtype=uint8), 0], [array([0, 0, 0, ..., 1, 0, 0], dtype=uint8), 0], [array([0, 0, 0, ..., 0, 0, 1], dtype=uint8), 0], [array([1, 0, 0, ..., 0, 0, 1], dtype=uint8), 1]]\n"
     ]
    }
   ],
   "source": [
    "print(data)"
   ]
  },
  {
   "cell_type": "code",
   "execution_count": 6,
   "id": "eab1a625",
   "metadata": {},
   "outputs": [],
   "source": [
    "import random"
   ]
  },
  {
   "cell_type": "code",
   "execution_count": 7,
   "id": "aacf6352",
   "metadata": {},
   "outputs": [],
   "source": [
    "random.shuffle(data)\n",
    "features = []\n",
    "labels = []\n",
    "#data"
   ]
  },
  {
   "cell_type": "code",
   "execution_count": 8,
   "id": "48caae25",
   "metadata": {},
   "outputs": [],
   "source": [
    "for feature, label in data:\n",
    "    features.append(feature)\n",
    "    labels.append(label)"
   ]
  },
  {
   "cell_type": "code",
   "execution_count": 70,
   "id": "364156e5",
   "metadata": {},
   "outputs": [],
   "source": [
    "#features"
   ]
  },
  {
   "cell_type": "code",
   "execution_count": 9,
   "id": "0c0e06ca",
   "metadata": {},
   "outputs": [],
   "source": [
    "from sklearn.model_selection import train_test_split"
   ]
  },
  {
   "cell_type": "code",
   "execution_count": 10,
   "id": "539755e2",
   "metadata": {},
   "outputs": [],
   "source": [
    "xtrain, xtest, ytrain, ytest = train_test_split(features, labels, test_size=0.25)"
   ]
  },
  {
   "cell_type": "code",
   "execution_count": 73,
   "id": "b4de8d7b",
   "metadata": {},
   "outputs": [],
   "source": [
    "#ytrain"
   ]
  },
  {
   "cell_type": "code",
   "execution_count": 74,
   "id": "81935e9c",
   "metadata": {},
   "outputs": [],
   "source": [
    "from sklearn.svm import SVC"
   ]
  },
  {
   "cell_type": "code",
   "execution_count": 115,
   "id": "91f377ef",
   "metadata": {},
   "outputs": [],
   "source": [
    "model = SVC(C=1, probability=True, kernel=\"poly\", gamma=\"auto\")"
   ]
  },
  {
   "cell_type": "code",
   "execution_count": 116,
   "id": "884d740e",
   "metadata": {},
   "outputs": [],
   "source": [
    "Y = np.array(ytrain)"
   ]
  },
  {
   "cell_type": "code",
   "execution_count": 34,
   "id": "85ef3e31",
   "metadata": {},
   "outputs": [],
   "source": [
    "#ytrain_updated = Y.reshape(len(Y), -1)"
   ]
  },
  {
   "cell_type": "code",
   "execution_count": 77,
   "id": "e03a1cb8",
   "metadata": {},
   "outputs": [
    {
     "name": "stdout",
     "output_type": "stream",
     "text": [
      "348\n"
     ]
    }
   ],
   "source": [
    "print(len(data))"
   ]
  },
  {
   "cell_type": "code",
   "execution_count": 44,
   "id": "ff094aa8",
   "metadata": {},
   "outputs": [],
   "source": [
    "#xtrain_2 = np.array(xtrain)\n",
    "#ytrain_2 = np.array(ytrain)"
   ]
  },
  {
   "cell_type": "code",
   "execution_count": 117,
   "id": "e3403606",
   "metadata": {},
   "outputs": [
    {
     "data": {
      "text/plain": [
       "SVC(C=1, gamma='auto', kernel='poly', probability=True)"
      ]
     },
     "execution_count": 117,
     "metadata": {},
     "output_type": "execute_result"
    }
   ],
   "source": [
    "model.fit(xtrain,ytrain)"
   ]
  },
  {
   "cell_type": "code",
   "execution_count": 118,
   "id": "92259c74",
   "metadata": {},
   "outputs": [
    {
     "data": {
      "text/plain": [
       "array([0, 0, 0, 1, 1, 0, 0, 0, 0, 1, 0, 0, 0, 0, 0, 1, 0, 0, 0, 0, 0, 0,\n",
       "       0, 0, 1, 1, 1, 0, 0, 0, 0, 0, 0, 0, 0, 0, 0, 0, 1, 0, 0, 1, 0, 1,\n",
       "       0, 1, 0, 0, 1, 0, 0, 1, 1, 0, 0, 0, 0, 0, 0, 0, 0, 0, 0, 0, 1, 0,\n",
       "       0, 1, 0, 0, 0, 1, 1, 1, 0, 0, 0, 0, 0, 1, 0, 0, 0, 1, 0, 0, 0])"
      ]
     },
     "execution_count": 118,
     "metadata": {},
     "output_type": "execute_result"
    }
   ],
   "source": [
    "pred = model.predict(xtest)\n",
    "pred"
   ]
  },
  {
   "cell_type": "code",
   "execution_count": 119,
   "id": "e6694b59",
   "metadata": {},
   "outputs": [],
   "source": [
    "from sklearn.metrics import confusion_matrix"
   ]
  },
  {
   "cell_type": "code",
   "execution_count": 120,
   "id": "5adc4a04",
   "metadata": {},
   "outputs": [
    {
     "name": "stdout",
     "output_type": "stream",
     "text": [
      "[[58 12]\n",
      " [ 8  9]]\n"
     ]
    }
   ],
   "source": [
    "cf_matrix = confusion_matrix(ytest, pred)\n",
    "\n",
    "print(cf_matrix)"
   ]
  },
  {
   "cell_type": "code",
   "execution_count": 121,
   "id": "d286b2c6",
   "metadata": {},
   "outputs": [
    {
     "data": {
      "text/plain": [
       "1.0"
      ]
     },
     "execution_count": 121,
     "metadata": {},
     "output_type": "execute_result"
    }
   ],
   "source": [
    "model.score(xtrain, ytrain)"
   ]
  },
  {
   "cell_type": "code",
   "execution_count": 122,
   "id": "5ce6b843",
   "metadata": {},
   "outputs": [
    {
     "data": {
      "text/plain": [
       "0.7701149425287356"
      ]
     },
     "execution_count": 122,
     "metadata": {},
     "output_type": "execute_result"
    }
   ],
   "source": [
    "model.score(xtest, ytest)"
   ]
  },
  {
   "cell_type": "code",
   "execution_count": 84,
   "id": "d52cc411",
   "metadata": {},
   "outputs": [],
   "source": [
    "validation_data = []\n",
    "dir_2 = \"C:\\\\Users\\\\User\\\\Desktop\\\\cataract\\\\Validation\"\n",
    "for category in categories:\n",
    "    path = os.path.join(dir_2,category)\n",
    "    label = categories.index(category)\n",
    "    \n",
    "    for img in os.listdir(path):\n",
    "        imgpath = os.path.join(path,img)\n",
    "        dis_img = cv2.imread(imgpath,0)\n",
    "        dis_img = cv2.resize(dis_img,(200,200))\n",
    "        image = np.array(dis_img).flatten()\n",
    "        \n",
    "        validation_data.append([image,label])"
   ]
  },
  {
   "cell_type": "code",
   "execution_count": 86,
   "id": "823413b3",
   "metadata": {},
   "outputs": [],
   "source": [
    "#validation_data"
   ]
  },
  {
   "cell_type": "code",
   "execution_count": 87,
   "id": "481c4e77",
   "metadata": {},
   "outputs": [],
   "source": [
    "random.shuffle(validation_data)\n",
    "validation_features = []\n",
    "validation_labels = []"
   ]
  },
  {
   "cell_type": "code",
   "execution_count": 88,
   "id": "b30e52d6",
   "metadata": {},
   "outputs": [],
   "source": [
    "for feature, label in validation_data:\n",
    "    validation_features.append(feature)\n",
    "    validation_labels.append(label)"
   ]
  },
  {
   "cell_type": "code",
   "execution_count": 89,
   "id": "465bb842",
   "metadata": {},
   "outputs": [],
   "source": [
    "#validation_features"
   ]
  },
  {
   "cell_type": "code",
   "execution_count": 90,
   "id": "05af1eb7",
   "metadata": {},
   "outputs": [],
   "source": [
    "#validation_labels"
   ]
  },
  {
   "cell_type": "code",
   "execution_count": 91,
   "id": "6807d646",
   "metadata": {},
   "outputs": [],
   "source": [
    "pred = model.predict(validation_features)"
   ]
  },
  {
   "cell_type": "code",
   "execution_count": 92,
   "id": "d20de863",
   "metadata": {},
   "outputs": [
    {
     "data": {
      "text/plain": [
       "array([0, 1, 0, 0, 0, 1, 0, 1, 0, 0, 1, 1, 0, 1, 0, 0, 1, 0, 1, 0, 1, 0,\n",
       "       0, 0, 1, 0, 0, 1, 1, 0, 0, 0, 0, 1, 0, 1, 1, 0, 0, 0, 0, 0, 0, 0,\n",
       "       0, 0, 0, 0, 0, 0, 0, 1])"
      ]
     },
     "execution_count": 92,
     "metadata": {},
     "output_type": "execute_result"
    }
   ],
   "source": [
    "pred"
   ]
  },
  {
   "cell_type": "code",
   "execution_count": 93,
   "id": "deb65be3",
   "metadata": {},
   "outputs": [
    {
     "data": {
      "text/plain": [
       "(array([ 4,  7, 10, 13, 19, 28, 30, 33, 40, 46], dtype=int64),)"
      ]
     },
     "execution_count": 93,
     "metadata": {},
     "output_type": "execute_result"
    }
   ],
   "source": [
    "misclassified=np.where(validation_labels!=pred)\n",
    "misclassified"
   ]
  },
  {
   "cell_type": "code",
   "execution_count": 94,
   "id": "6732226b",
   "metadata": {},
   "outputs": [
    {
     "name": "stdout",
     "output_type": "stream",
     "text": [
      "Total Misclassified Samples:  10\n"
     ]
    }
   ],
   "source": [
    "print(\"Total Misclassified Samples: \",len(misclassified[0]))"
   ]
  },
  {
   "cell_type": "code",
   "execution_count": 95,
   "id": "3f7edb86",
   "metadata": {},
   "outputs": [],
   "source": [
    "from sklearn.ensemble import RandomForestClassifier"
   ]
  },
  {
   "cell_type": "code",
   "execution_count": 96,
   "id": "8b8d430f",
   "metadata": {},
   "outputs": [
    {
     "data": {
      "text/plain": [
       "RandomForestClassifier()"
      ]
     },
     "execution_count": 96,
     "metadata": {},
     "output_type": "execute_result"
    }
   ],
   "source": [
    "clf=RandomForestClassifier(n_estimators=100)\n",
    "clf.fit(xtrain,ytrain)"
   ]
  },
  {
   "cell_type": "code",
   "execution_count": 97,
   "id": "e0f6beb2",
   "metadata": {},
   "outputs": [
    {
     "data": {
      "text/plain": [
       "array([1, 0, 0, 0, 1, 0, 0, 1, 0, 0, 0, 0, 0, 0, 0, 0, 0, 0, 0, 0, 0, 0,\n",
       "       0, 0, 0, 1, 1, 0, 0, 0, 0, 0, 0, 0, 0, 0, 1, 0, 0, 0, 0, 0, 0, 0,\n",
       "       0, 0, 0, 0, 0, 0, 0, 0, 0, 0, 0, 0, 0, 0, 0, 0, 0, 0, 0, 0, 0, 0,\n",
       "       0, 1, 0, 1, 0, 0, 0, 1, 0, 0, 0, 0, 1, 1, 0, 0, 0, 0, 0, 0, 0])"
      ]
     },
     "execution_count": 97,
     "metadata": {},
     "output_type": "execute_result"
    }
   ],
   "source": [
    "pred_f = clf.predict(xtest)\n",
    "pred_f"
   ]
  },
  {
   "cell_type": "code",
   "execution_count": 98,
   "id": "6be7ec83",
   "metadata": {},
   "outputs": [
    {
     "data": {
      "text/plain": [
       "0.7701149425287356"
      ]
     },
     "execution_count": 98,
     "metadata": {},
     "output_type": "execute_result"
    }
   ],
   "source": [
    "clf.score(xtest, ytest)"
   ]
  },
  {
   "cell_type": "code",
   "execution_count": 99,
   "id": "e065a539",
   "metadata": {},
   "outputs": [],
   "source": [
    "from sklearn.ensemble import AdaBoostClassifier"
   ]
  },
  {
   "cell_type": "code",
   "execution_count": 100,
   "id": "0500b2e3",
   "metadata": {},
   "outputs": [],
   "source": [
    "abc = AdaBoostClassifier(n_estimators=50,\n",
    "                         learning_rate=1)\n",
    "model_abc = abc.fit(xtrain, ytrain)"
   ]
  },
  {
   "cell_type": "code",
   "execution_count": 101,
   "id": "691351e2",
   "metadata": {},
   "outputs": [
    {
     "data": {
      "text/plain": [
       "array([0, 1, 0, 1, 0, 0, 0, 0, 0, 0, 0, 1, 0, 0, 0, 0, 0, 1, 0, 0, 0, 0,\n",
       "       0, 0, 0, 0, 1, 0, 0, 0, 0, 0, 0, 0, 0, 0, 1, 0, 1, 0, 0, 1, 0, 0,\n",
       "       0, 0, 0, 0, 0, 0, 0, 0, 0, 0, 1, 0, 0, 0, 0, 0, 0, 0, 0, 0, 0, 0,\n",
       "       0, 1, 0, 1, 0, 0, 1, 1, 0, 0, 0, 0, 1, 0, 0, 0, 1, 0, 0, 0, 0])"
      ]
     },
     "execution_count": 101,
     "metadata": {},
     "output_type": "execute_result"
    }
   ],
   "source": [
    "pred_abc = model_abc.predict(xtest)\n",
    "pred_abc"
   ]
  },
  {
   "cell_type": "code",
   "execution_count": 103,
   "id": "5036a762",
   "metadata": {},
   "outputs": [
    {
     "data": {
      "text/plain": [
       "0.7241379310344828"
      ]
     },
     "execution_count": 103,
     "metadata": {},
     "output_type": "execute_result"
    }
   ],
   "source": [
    "model_abc.score(xtest,ytest)"
   ]
  },
  {
   "cell_type": "code",
   "execution_count": 108,
   "id": "e7cfccaf",
   "metadata": {},
   "outputs": [
    {
     "data": {
      "text/plain": [
       "array([0, 1, 0, 1, 0, 0, 0, 0, 0, 0, 0, 1, 0, 0, 0, 0, 0, 1, 0, 0, 0, 0,\n",
       "       0, 0, 0, 0, 1, 0, 0, 0, 0, 0, 0, 0, 0, 0, 1, 0, 1, 0, 0, 1, 0, 0,\n",
       "       0, 0, 0, 0, 0, 0, 0, 0, 0, 0, 1, 0, 0, 0, 0, 0, 0, 0, 0, 0, 0, 0,\n",
       "       0, 1, 0, 1, 0, 0, 1, 1, 0, 0, 0, 0, 1, 0, 0, 0, 1, 0, 0, 0, 0])"
      ]
     },
     "execution_count": 108,
     "metadata": {},
     "output_type": "execute_result"
    }
   ],
   "source": [
    "dec = {0:'normal', 1:'cataract'}\n",
    "pred_abc = model_abc.predict(xtest)\n",
    "pred_abc"
   ]
  },
  {
   "cell_type": "code",
   "execution_count": 110,
   "id": "821de7b0",
   "metadata": {},
   "outputs": [],
   "source": [
    "from sklearn.metrics import confusion_matrix"
   ]
  },
  {
   "cell_type": "code",
   "execution_count": 111,
   "id": "b6931dce",
   "metadata": {},
   "outputs": [],
   "source": [
    "cf_matrix = confusion_matrix(ytest, pred_abc)"
   ]
  },
  {
   "cell_type": "code",
   "execution_count": 112,
   "id": "17902672",
   "metadata": {},
   "outputs": [
    {
     "data": {
      "text/plain": [
       "array([[59, 11],\n",
       "       [13,  4]], dtype=int64)"
      ]
     },
     "execution_count": 112,
     "metadata": {},
     "output_type": "execute_result"
    }
   ],
   "source": [
    "cf_matrix"
   ]
  },
  {
   "cell_type": "code",
   "execution_count": 107,
   "id": "d62175b9",
   "metadata": {},
   "outputs": [
    {
     "data": {
      "image/png": "[encoded data removed]",
      "text/plain": [
       "<Figure size 864x576 with 9 Axes>"
      ]
     },
     "metadata": {
      "needs_background": "light"
     },
     "output_type": "display_data"
    }
   ],
   "source": [
    "plt.figure(figsize=(12,8))\n",
    "p = os.listdir('cataract/Validation/')\n",
    "c=1\n",
    "for i in os.listdir('cataract/Validation/cataract/')[:9]:\n",
    "    plt.subplot(3,3,c)\n",
    "    \n",
    "    img = cv2.imread('cataract/Validation/cataract/'+i,0)\n",
    "    img1 = cv2.resize(img, (200,200))\n",
    "    img1 = img1.reshape(1,-1)/255\n",
    "    p = model_abc.predict(img1)\n",
    "    plt.title(dec[p[0]])\n",
    "    plt.imshow(img, cmap='gray')\n",
    "    plt.axis('off')\n",
    "    c+=1"
   ]
  },
  {
   "cell_type": "code",
   "execution_count": 58,
   "id": "7a1f94b7",
   "metadata": {},
   "outputs": [],
   "source": [
    "pred_model = model.predict(xtest)"
   ]
  },
  {
   "cell_type": "code",
   "execution_count": 59,
   "id": "6a0e38c4",
   "metadata": {},
   "outputs": [
    {
     "data": {
      "text/plain": [
       "array([0, 0, 0, 1, 0, 0, 0, 0, 1, 1, 0, 0, 0, 0, 1, 0, 0, 0, 0, 0, 0, 0,\n",
       "       0, 0, 1, 0, 1, 0, 1, 0, 0, 0, 0, 0, 0, 1, 0, 0, 0, 0, 0, 0, 0, 1,\n",
       "       0, 0, 1, 1, 0, 1, 1, 0, 0, 0, 0, 0, 0, 0, 0, 0, 1, 0, 0, 0, 1, 0,\n",
       "       0, 1, 1, 0, 1, 0, 0, 0, 0, 1, 0, 1, 0, 0, 0, 1, 0, 0, 0, 0, 0])"
      ]
     },
     "execution_count": 59,
     "metadata": {},
     "output_type": "execute_result"
    }
   ],
   "source": [
    "pred_model"
   ]
  },
  {
   "cell_type": "code",
   "execution_count": 113,
   "id": "0ff8beba",
   "metadata": {},
   "outputs": [],
   "source": [
    "from sklearn.metrics import roc_curve, roc_auc_score"
   ]
  },
  {
   "cell_type": "code",
   "execution_count": 123,
   "id": "7d9b63ec",
   "metadata": {},
   "outputs": [],
   "source": [
    "y_pred_proba = model.predict_proba(xtest)[::,1]"
   ]
  },
  {
   "cell_type": "code",
   "execution_count": 125,
   "id": "8be92a9e",
   "metadata": {},
   "outputs": [],
   "source": [
    "fpr, tpr, _ = roc_curve(ytest,  y_pred_proba)"
   ]
  },
  {
   "cell_type": "code",
   "execution_count": 129,
   "id": "c9b7659a",
   "metadata": {},
   "outputs": [],
   "source": [
    "#tpr"
   ]
  },
  {
   "cell_type": "code",
   "execution_count": 128,
   "id": "f1a8498e",
   "metadata": {},
   "outputs": [],
   "source": [
    "import matplotlib.pyplot as plt"
   ]
  },
  {
   "cell_type": "code",
   "execution_count": 130,
   "id": "e362adc2",
   "metadata": {},
   "outputs": [
    {
     "data": {
      "image/png": "[encoded data removed]",
      "text/plain": [
       "<Figure size 432x288 with 1 Axes>"
      ]
     },
     "metadata": {
      "needs_background": "light"
     },
     "output_type": "display_data"
    }
   ],
   "source": [
    "plt.plot(fpr,tpr)\n",
    "plt.ylabel('True Positive Rate')\n",
    "plt.xlabel('False Positive Rate')\n",
    "plt.show()"
   ]
  },
  {
   "cell_type": "code",
   "execution_count": 132,
   "id": "3ede2264",
   "metadata": {},
   "outputs": [],
   "source": [
    "auc = roc_auc_score(ytest, y_pred_proba)"
   ]
  },
  {
   "cell_type": "code",
   "execution_count": 133,
   "id": "34e3a667",
   "metadata": {},
   "outputs": [
    {
     "data": {
      "image/png": "[encoded data removed]",
      "text/plain": [
       "<Figure size 432x288 with 1 Axes>"
      ]
     },
     "metadata": {
      "needs_background": "light"
     },
     "output_type": "display_data"
    }
   ],
   "source": [
    "#create ROC curve\n",
    "plt.plot(fpr,tpr,label=\"AUC=\"+str(auc))\n",
    "plt.ylabel('True Positive Rate')\n",
    "plt.xlabel('False Positive Rate')\n",
    "plt.legend(loc=4)\n",
    "plt.show()"
   ]
  },
  {
   "cell_type": "code",
   "execution_count": 135,
   "id": "28225199",
   "metadata": {},
   "outputs": [],
   "source": [
    "from sklearn.ensemble import StackingClassifier\n",
    "from sklearn.linear_model import LogisticRegression"
   ]
  },
  {
   "cell_type": "code",
   "execution_count": 136,
   "id": "bd975ae5",
   "metadata": {},
   "outputs": [],
   "source": [
    "base_learners = [\n",
    "                 ('rf_1', RandomForestClassifier(n_estimators=10, random_state=42)),\n",
    "                 ('rf_2', SVC(C=1, probability=True, kernel=\"poly\", gamma=\"auto\")),\n",
    "                ('rf_3', AdaBoostClassifier(n_estimators=50,\n",
    "                xlearning_rate=1))\n",
    "                ]"
   ]
  },
  {
   "cell_type": "code",
   "execution_count": 153,
   "id": "8c02611d",
   "metadata": {},
   "outputs": [],
   "source": [
    "clf_final_stack = StackingClassifier(estimators=base_learners, final_estimator=LogisticRegression())"
   ]
  },
  {
   "cell_type": "code",
   "execution_count": 154,
   "id": "057e5f22",
   "metadata": {},
   "outputs": [
    {
     "data": {
      "text/plain": [
       "StackingClassifier(estimators=[('rf_1',\n",
       "                                RandomForestClassifier(n_estimators=10,\n",
       "                                                       random_state=42)),\n",
       "                               ('rf_2',\n",
       "                                SVC(C=1, gamma='auto', kernel='poly',\n",
       "                                    probability=True)),\n",
       "                               ('rf_3', AdaBoostClassifier(learning_rate=1))],\n",
       "                   final_estimator=LogisticRegression())"
      ]
     },
     "execution_count": 154,
     "metadata": {},
     "output_type": "execute_result"
    }
   ],
   "source": [
    "clf_final_stack.fit(xtrain, ytrain)"
   ]
  },
  {
   "cell_type": "code",
   "execution_count": 160,
   "id": "0444ed86",
   "metadata": {},
   "outputs": [
    {
     "data": {
      "text/plain": [
       "array([0, 0, 0, 1, 1, 0, 0, 0, 0, 1, 0, 0, 0, 0, 0, 0, 0, 0, 0, 0, 0, 0,\n",
       "       0, 0, 0, 1, 1, 0, 0, 0, 0, 0, 0, 0, 0, 0, 0, 0, 0, 0, 0, 0, 0, 1,\n",
       "       0, 0, 0, 0, 0, 0, 0, 0, 0, 0, 0, 0, 0, 0, 0, 0, 0, 0, 0, 0, 0, 0,\n",
       "       0, 1, 0, 0, 0, 0, 0, 1, 0, 0, 0, 0, 0, 1, 0, 0, 0, 0, 0, 0, 0])"
      ]
     },
     "execution_count": 160,
     "metadata": {},
     "output_type": "execute_result"
    }
   ],
   "source": [
    "#clf_final_stack.predict(xtrain)\n",
    "#clf_final_stack.score(xtrain,ytrain)\n",
    "clf_final_stack.predict(xtest)"
   ]
  },
  {
   "cell_type": "code",
   "execution_count": 161,
   "id": "68ef1f95",
   "metadata": {},
   "outputs": [
    {
     "data": {
      "text/plain": [
       "0.7931034482758621"
      ]
     },
     "execution_count": 161,
     "metadata": {},
     "output_type": "execute_result"
    }
   ],
   "source": [
    "clf_final_stack.score(xtest,ytest)"
   ]
  },
  {
   "cell_type": "code",
   "execution_count": 162,
   "id": "9fec899a",
   "metadata": {},
   "outputs": [],
   "source": [
    "from sklearn.neighbors import KNeighborsClassifier\n",
    "from sklearn.tree import DecisionTreeClassifier"
   ]
  },
  {
   "cell_type": "code",
   "execution_count": 163,
   "id": "1e72adda",
   "metadata": {},
   "outputs": [],
   "source": [
    "layer_one_estimators = [\n",
    "                        ('rf_1', RandomForestClassifier(n_estimators=10, random_state=42)),\n",
    "                        ('knn_1', KNeighborsClassifier(n_neighbors=5))             \n",
    "                       ]\n",
    "layer_two_estimators = base_learners"
   ]
  },
  {
   "cell_type": "code",
   "execution_count": 164,
   "id": "bd2d9825",
   "metadata": {},
   "outputs": [],
   "source": [
    "layer_two = clf_final_stack"
   ]
  },
  {
   "cell_type": "code",
   "execution_count": 165,
   "id": "55c6e094",
   "metadata": {},
   "outputs": [],
   "source": [
    "clf_double_stacked = StackingClassifier(estimators=layer_one_estimators, final_estimator=layer_two)"
   ]
  },
  {
   "cell_type": "code",
   "execution_count": 166,
   "id": "57ee20cd",
   "metadata": {},
   "outputs": [
    {
     "data": {
      "text/plain": [
       "StackingClassifier(estimators=[('rf_1',\n",
       "                                RandomForestClassifier(n_estimators=10,\n",
       "                                                       random_state=42)),\n",
       "                               ('knn_1', KNeighborsClassifier())],\n",
       "                   final_estimator=StackingClassifier(estimators=[('rf_1',\n",
       "                                                                   RandomForestClassifier(n_estimators=10,\n",
       "                                                                                          random_state=42)),\n",
       "                                                                  ('rf_2',\n",
       "                                                                   SVC(C=1,\n",
       "                                                                       gamma='auto',\n",
       "                                                                       kernel='poly',\n",
       "                                                                       probability=True)),\n",
       "                                                                  ('rf_3',\n",
       "                                                                   AdaBoostClassifier(learning_rate=1))],\n",
       "                                                      final_estimator=LogisticRegression()))"
      ]
     },
     "execution_count": 166,
     "metadata": {},
     "output_type": "execute_result"
    }
   ],
   "source": [
    "clf_double_stacked.fit(xtrain, ytrain)"
   ]
  },
  {
   "cell_type": "code",
   "execution_count": 168,
   "id": "d221074a",
   "metadata": {},
   "outputs": [
    {
     "data": {
      "text/plain": [
       "array([0, 0, 0, 1, 0, 1, 0, 1, 0, 0, 0, 0, 0, 0, 0, 0, 0, 0, 0, 0, 0, 0,\n",
       "       0, 0, 0, 0, 0, 0, 0, 0, 0, 0, 0, 0, 0, 0, 0, 0, 0, 0, 0, 0, 0, 0,\n",
       "       0, 0, 0, 0, 0, 0, 0, 0, 0, 0, 0, 0, 0, 0, 0, 0, 0, 0, 0, 0, 0, 0,\n",
       "       0, 1, 0, 1, 0, 0, 0, 1, 0, 0, 0, 0, 1, 1, 0, 0, 0, 0, 0, 0, 0])"
      ]
     },
     "execution_count": 168,
     "metadata": {},
     "output_type": "execute_result"
    }
   ],
   "source": [
    "clf_double_stacked.predict(xtest)"
   ]
  },
  {
   "cell_type": "code",
   "execution_count": 169,
   "id": "44cd6086",
   "metadata": {},
   "outputs": [
    {
     "data": {
      "text/plain": [
       "0.7586206896551724"
      ]
     },
     "execution_count": 169,
     "metadata": {},
     "output_type": "execute_result"
    }
   ],
   "source": [
    "clf_double_stacked.score(xtest,ytest)"
   ]
  },
  {
   "cell_type": "code",
   "execution_count": 170,
   "id": "656acf96",
   "metadata": {},
   "outputs": [
    {
     "data": {
      "text/plain": [
       "0.7115384615384616"
      ]
     },
     "execution_count": 170,
     "metadata": {},
     "output_type": "execute_result"
    }
   ],
   "source": [
    "clf_double_stacked.score(validation_features,validation_labels)"
   ]
  },
  {
   "cell_type": "code",
   "execution_count": 171,
   "id": "143664c4",
   "metadata": {},
   "outputs": [
    {
     "data": {
      "text/plain": [
       "0.6923076923076923"
      ]
     },
     "execution_count": 171,
     "metadata": {},
     "output_type": "execute_result"
    }
   ],
   "source": [
    "clf_final_stack.score(validation_features,validation_labels)"
   ]
  },
  {
   "cell_type": "code",
   "execution_count": 172,
   "id": "34e59905",
   "metadata": {},
   "outputs": [],
   "source": [
    "pred_single_stack = clf_final_stack.predict(xtest)"
   ]
  },
  {
   "cell_type": "code",
   "execution_count": 173,
   "id": "e18b32f6",
   "metadata": {},
   "outputs": [],
   "source": [
    "cf_matrix_stack = confusion_matrix(ytest, pred_single_stack)"
   ]
  },
  {
   "cell_type": "code",
   "execution_count": 174,
   "id": "481f248e",
   "metadata": {},
   "outputs": [
    {
     "data": {
      "text/plain": [
       "array([[65,  5],\n",
       "       [13,  4]], dtype=int64)"
      ]
     },
     "execution_count": 174,
     "metadata": {},
     "output_type": "execute_result"
    }
   ],
   "source": [
    "cf_matrix_stack"
   ]
  },
  {
   "cell_type": "code",
   "execution_count": 11,
   "id": "850ed962",
   "metadata": {},
   "outputs": [],
   "source": [
    "from imblearn.over_sampling import SMOTE"
   ]
  },
  {
   "cell_type": "code",
   "execution_count": 18,
   "id": "c47e6d1b",
   "metadata": {},
   "outputs": [],
   "source": [
    "smote = SMOTE(sampling_strategy='minority')\n",
    "x_sm, y_sm = smote.fit_resample(xtrain, ytrain)"
   ]
  },
  {
   "cell_type": "code",
   "execution_count": 25,
   "id": "32a097ba",
   "metadata": {},
   "outputs": [],
   "source": [
    "y_sm_np = np.array(y_sm)"
   ]
  },
  {
   "cell_type": "code",
   "execution_count": 27,
   "id": "4612794e",
   "metadata": {},
   "outputs": [],
   "source": [
    "import pandas as pd"
   ]
  },
  {
   "cell_type": "code",
   "execution_count": 28,
   "id": "a14361fa",
   "metadata": {},
   "outputs": [
    {
     "data": {
      "text/plain": [
       "0    191\n",
       "1    191\n",
       "dtype: int64"
      ]
     },
     "execution_count": 28,
     "metadata": {},
     "output_type": "execute_result"
    }
   ],
   "source": [
    "pd.value_counts(y_sm_np)"
   ]
  },
  {
   "cell_type": "code",
   "execution_count": 29,
   "id": "0b22ef5e",
   "metadata": {},
   "outputs": [
    {
     "data": {
      "text/plain": [
       "0    191\n",
       "1    191\n",
       "dtype: int64"
      ]
     },
     "execution_count": 29,
     "metadata": {},
     "output_type": "execute_result"
    }
   ],
   "source": [
    "x_sm_np = np.array(x_sm)\n",
    "pd.value_counts(y_sm_np)"
   ]
  },
  {
   "cell_type": "code",
   "execution_count": 30,
   "id": "9720720f",
   "metadata": {},
   "outputs": [],
   "source": [
    "from sklearn.svm import SVC"
   ]
  },
  {
   "cell_type": "code",
   "execution_count": 32,
   "id": "a6707ba4",
   "metadata": {},
   "outputs": [],
   "source": [
    "model = SVC(C=1, probability=True, kernel=\"poly\", gamma=\"auto\")"
   ]
  },
  {
   "cell_type": "code",
   "execution_count": 33,
   "id": "e623e291",
   "metadata": {},
   "outputs": [
    {
     "data": {
      "text/plain": [
       "SVC(C=1, gamma='auto', kernel='poly', probability=True)"
      ]
     },
     "execution_count": 33,
     "metadata": {},
     "output_type": "execute_result"
    }
   ],
   "source": [
    "model.fit(x_sm,y_sm)"
   ]
  },
  {
   "cell_type": "code",
   "execution_count": 34,
   "id": "95e25ba1",
   "metadata": {},
   "outputs": [
    {
     "data": {
      "text/plain": [
       "array([0, 0, 0, 0, 0, 0, 1, 0, 0, 0, 0, 0, 0, 0, 0, 0, 0, 1, 0, 0, 1, 0,\n",
       "       0, 1, 0, 0, 0, 0, 1, 0, 0, 0, 1, 0, 0, 0, 0, 0, 0, 1, 0, 1, 0, 0,\n",
       "       1, 0, 0, 0, 0, 0, 0, 1, 0, 1, 0, 0, 0, 0, 0, 0, 0, 0, 0, 0, 0, 0,\n",
       "       0, 0, 0, 0, 1, 0, 0, 0, 0, 0, 0, 0, 1, 0, 0, 1, 0, 0, 0, 0, 0])"
      ]
     },
     "execution_count": 34,
     "metadata": {},
     "output_type": "execute_result"
    }
   ],
   "source": [
    "pred = model.predict(xtest)\n",
    "pred"
   ]
  },
  {
   "cell_type": "code",
   "execution_count": 35,
   "id": "b89ed2e4",
   "metadata": {},
   "outputs": [],
   "source": [
    "from sklearn.metrics import confusion_matrix"
   ]
  },
  {
   "cell_type": "code",
   "execution_count": 36,
   "id": "95e9b681",
   "metadata": {},
   "outputs": [
    {
     "name": "stdout",
     "output_type": "stream",
     "text": [
      "[[66  7]\n",
      " [ 7  7]]\n"
     ]
    }
   ],
   "source": [
    "cf_matrix = confusion_matrix(ytest, pred)\n",
    "\n",
    "print(cf_matrix)"
   ]
  },
  {
   "cell_type": "code",
   "execution_count": 37,
   "id": "3ddb019c",
   "metadata": {},
   "outputs": [
    {
     "data": {
      "text/plain": [
       "0.8390804597701149"
      ]
     },
     "execution_count": 37,
     "metadata": {},
     "output_type": "execute_result"
    }
   ],
   "source": [
    "model.score(xtest,ytest)"
   ]
  },
  {
   "cell_type": "code",
   "execution_count": 39,
   "id": "64f52518",
   "metadata": {},
   "outputs": [],
   "source": [
    "from sklearn.metrics import f1_score"
   ]
  },
  {
   "cell_type": "code",
   "execution_count": 41,
   "id": "a4f70310",
   "metadata": {},
   "outputs": [
    {
     "name": "stdout",
     "output_type": "stream",
     "text": [
      "0.5\n"
     ]
    }
   ],
   "source": [
    "score_f1 = f1_score(ytest, pred)\n",
    "\n",
    "print(score_f1)"
   ]
  },
  {
   "cell_type": "code",
   "execution_count": null,
   "id": "aecde69c",
   "metadata": {},
   "outputs": [],
   "source": []
  }
 ],
 "metadata": {
  "kernelspec": {
   "display_name": "Python 3 (ipykernel)",
   "language": "python",
   "name": "python3"
  },
  "language_info": {
   "codemirror_mode": {
    "name": "ipython",
    "version": 3
   },
   "file_extension": ".py",
   "mimetype": "text/x-python",
   "name": "python",
   "nbconvert_exporter": "python",
   "pygments_lexer": "ipython3",
   "version": "3.9.7"
  }
 },
 "nbformat": 4,
 "nbformat_minor": 5
}
